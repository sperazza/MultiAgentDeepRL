{
 "cells": [
  {
   "cell_type": "markdown",
   "metadata": {},
   "source": [
    "# Continuous Control\n",
    "\n",
    "---\n",
    "\n",
    "In this notebook, you will learn how to use the Unity ML-Agents environment for the second project of the [Deep Reinforcement Learning Nanodegree](https://www.udacity.com/course/deep-reinforcement-learning-nanodegree--nd893) program.\n",
    "\n",
    "### 1. Start the Environment\n",
    "\n",
    "We begin by importing the necessary packages.  If the code cell below returns an error, please revisit the project instructions to double-check that you have installed [Unity ML-Agents](https://github.com/Unity-Technologies/ml-agents/blob/master/docs/Installation.md) and [NumPy](http://www.numpy.org/)."
   ]
  },
  {
   "cell_type": "code",
   "execution_count": 1,
   "metadata": {},
   "outputs": [],
   "source": [
    "from unityagents import UnityEnvironment\n",
    "import numpy as np\n",
    "import matplotlib.pyplot as plt\n",
    "%matplotlib inline\n"
   ]
  },
  {
   "cell_type": "markdown",
   "metadata": {},
   "source": [
    "Next, we will start the environment!  **_Before running the code cell below_**, change the `file_name` parameter to match the location of the Unity environment that you downloaded.\n",
    "\n",
    "- **Mac**: `\"path/to/Reacher.app\"`\n",
    "- **Windows** (x86): `\"path/to/Reacher_Windows_x86/Reacher.exe\"`\n",
    "- **Windows** (x86_64): `\"path/to/Reacher_Windows_x86_64/Reacher.exe\"`\n",
    "- **Linux** (x86): `\"path/to/Reacher_Linux/Reacher.x86\"`\n",
    "- **Linux** (x86_64): `\"path/to/Reacher_Linux/Reacher.x86_64\"`\n",
    "- **Linux** (x86, headless): `\"path/to/Reacher_Linux_NoVis/Reacher.x86\"`\n",
    "- **Linux** (x86_64, headless): `\"path/to/Reacher_Linux_NoVis/Reacher.x86_64\"`\n",
    "\n",
    "For instance, if you are using a Mac, then you downloaded `Reacher.app`.  If this file is in the same folder as the notebook, then the line below should appear as follows:\n",
    "```\n",
    "env = UnityEnvironment(file_name=\"Reacher.app\")\n",
    "```"
   ]
  },
  {
   "cell_type": "code",
   "execution_count": 2,
   "metadata": {},
   "outputs": [
    {
     "name": "stderr",
     "output_type": "stream",
     "text": [
      "INFO:unityagents:\n",
      "'Academy' started successfully!\n",
      "Unity Academy name: Academy\n",
      "        Number of Brains: 1\n",
      "        Number of External Brains : 1\n",
      "        Lesson number : 0\n",
      "        Reset Parameters :\n",
      "\t\tgoal_speed -> 1.0\n",
      "\t\tgoal_size -> 5.0\n",
      "Unity brain name: ReacherBrain\n",
      "        Number of Visual Observations (per agent): 0\n",
      "        Vector Observation space type: continuous\n",
      "        Vector Observation space size (per agent): 33\n",
      "        Number of stacked Vector Observation: 1\n",
      "        Vector Action space type: continuous\n",
      "        Vector Action space size (per agent): 4\n",
      "        Vector Action descriptions: , , , \n"
     ]
    }
   ],
   "source": [
    "env = UnityEnvironment(file_name='Reacher_Windows_x86_64/Reacher_Windows_x86_64/Reacher.exe')"
   ]
  },
  {
   "cell_type": "markdown",
   "metadata": {},
   "source": [
    "Environments contain **_brains_** which are responsible for deciding the actions of their associated agents. Here we check for the first brain available, and set it as the default brain we will be controlling from Python."
   ]
  },
  {
   "cell_type": "code",
   "execution_count": 3,
   "metadata": {},
   "outputs": [],
   "source": [
    "# get the default brain\n",
    "brain_name = env.brain_names[0]\n",
    "brain = env.brains[brain_name]"
   ]
  },
  {
   "cell_type": "markdown",
   "metadata": {},
   "source": [
    "### 2. Examine the State and Action Spaces\n",
    "\n",
    "In this environment, a double-jointed arm can move to target locations. A reward of `+0.1` is provided for each step that the agent's hand is in the goal location. Thus, the goal of your agent is to maintain its position at the target location for as many time steps as possible.\n",
    "\n",
    "The observation space consists of `33` variables corresponding to position, rotation, velocity, and angular velocities of the arm.  Each action is a vector with four numbers, corresponding to torque applicable to two joints.  Every entry in the action vector must be a number between `-1` and `1`.\n",
    "\n",
    "Run the code cell below to print some information about the environment."
   ]
  },
  {
   "cell_type": "code",
   "execution_count": 4,
   "metadata": {},
   "outputs": [
    {
     "name": "stdout",
     "output_type": "stream",
     "text": [
      "Number of agents: 20\n",
      "Size of each action: 4\n",
      "There are 20 agents. Each observes a state with length: 33\n",
      "The state for the first agent looks like: [ 0.00000000e+00 -4.00000000e+00  0.00000000e+00  1.00000000e+00\n",
      " -0.00000000e+00 -0.00000000e+00 -4.37113883e-08  0.00000000e+00\n",
      "  0.00000000e+00  0.00000000e+00  0.00000000e+00  0.00000000e+00\n",
      "  0.00000000e+00  0.00000000e+00 -1.00000000e+01  0.00000000e+00\n",
      "  1.00000000e+00 -0.00000000e+00 -0.00000000e+00 -4.37113883e-08\n",
      "  0.00000000e+00  0.00000000e+00  0.00000000e+00  0.00000000e+00\n",
      "  0.00000000e+00  0.00000000e+00  5.75471878e+00 -1.00000000e+00\n",
      "  5.55726624e+00  0.00000000e+00  1.00000000e+00  0.00000000e+00\n",
      " -1.68164849e-01]\n"
     ]
    }
   ],
   "source": [
    "# reset the environment\n",
    "env_info = env.reset(train_mode=True)[brain_name]\n",
    "\n",
    "# number of agents\n",
    "num_agents = len(env_info.agents)\n",
    "print('Number of agents:', num_agents)\n",
    "\n",
    "# size of each action\n",
    "action_size = brain.vector_action_space_size\n",
    "print('Size of each action:', action_size)\n",
    "\n",
    "# examine the state space \n",
    "states = env_info.vector_observations\n",
    "state_size = states.shape[1]\n",
    "print('There are {} agents. Each observes a state with length: {}'.format(states.shape[0], state_size))\n",
    "print('The state for the first agent looks like:', states[0])"
   ]
  },
  {
   "cell_type": "markdown",
   "metadata": {},
   "source": [
    "### 3. Take Random Actions in the Environment\n",
    "\n",
    "In the next code cell, you will learn how to use the Python API to control the agent and receive feedback from the environment.\n",
    "\n",
    "Once this cell is executed, you will watch the agent's performance, if it selects an action at random with each time step.  A window should pop up that allows you to observe the agent, as it moves through the environment.  \n",
    "\n",
    "Of course, as part of the project, you'll have to change the code so that the agent is able to use its experience to gradually choose better actions when interacting with the environment!"
   ]
  },
  {
   "cell_type": "code",
   "execution_count": 5,
   "metadata": {},
   "outputs": [],
   "source": [
    "runSample=False  #set to true to run sample\n",
    "if (runSample): \n",
    "    env_info = env.reset(train_mode=False)[brain_name]     # reset the environment    \n",
    "    states = env_info.vector_observations                  # get the current state (for each agent)\n",
    "    scores = np.zeros(num_agents)                          # initialize the score (for each agent)\n",
    "    while True:\n",
    "        actions = np.random.randn(num_agents, action_size) # select an action (for each agent)\n",
    "        actions = np.clip(actions, -1, 1)                  # all actions between -1 and 1\n",
    "        env_info = env.step(actions)[brain_name]           # send all actions to tne environment\n",
    "        next_states = env_info.vector_observations         # get next state (for each agent)\n",
    "        rewards = env_info.rewards                         # get reward (for each agent)\n",
    "        dones = env_info.local_done                        # see if episode finished\n",
    "        scores += env_info.rewards                         # update the score (for each agent)\n",
    "        states = next_states                               # roll over states to next time step\n",
    "        if np.any(dones):                                  # exit loop if episode finished\n",
    "            break\n",
    "    print('Total score (averaged over agents) this episode: {}'.format(np.mean(scores)))"
   ]
  },
  {
   "cell_type": "markdown",
   "metadata": {},
   "source": [
    "When finished, you can close the environment."
   ]
  },
  {
   "cell_type": "code",
   "execution_count": 6,
   "metadata": {},
   "outputs": [],
   "source": [
    "if (runSample): env.close()"
   ]
  },
  {
   "cell_type": "markdown",
   "metadata": {},
   "source": [
    "### 4. It's Your Turn!\n",
    "\n",
    "Now it's your turn to train your own agent to solve the environment!  When training the environment, set `train_mode=True`, so that the line for resetting the environment looks like the following:\n",
    "```python\n",
    "env_info = env.reset(train_mode=True)[brain_name]\n",
    "```"
   ]
  },
  {
   "cell_type": "markdown",
   "metadata": {},
   "source": [
    "## implement DDPG policy"
   ]
  },
  {
   "cell_type": "markdown",
   "metadata": {},
   "source": [
    "### Setup Parameters\n",
    "\n",
    "This uses a basic structure 'Parameters' to encapsalate all common parameters"
   ]
  },
  {
   "cell_type": "code",
   "execution_count": 7,
   "metadata": {},
   "outputs": [
    {
     "name": "stdout",
     "output_type": "stream",
     "text": [
      "Parameters:\n",
      "===========\n",
      "STATE_SIZE(0):33\n",
      "ACTION_SIZE(0):4\n",
      "NUM_AGENTS(0):20\n",
      "RANDOM_SEED(1):1\n",
      "BUFFER_SIZE(ie5):100000\n",
      "BATCH_SIZE(512):256\n",
      "STEPS_BEFORE_LEARN(15) :10\n",
      "NUM_LEARN_STEPS(10):50\n",
      "GAMMA(.99):0.94\n",
      "GAMMA_MAX(.99):0.99\n",
      "GAMMA_DECAY(1.001):1.001\n",
      "TAU Size(1e-3):0.06\n",
      "LR_ACTOR(ie-4):0.0001\n",
      "LR_CRITIC(1e-5):0.001\n",
      "WEIGHT_DECAY(0):0\n",
      "DEVICE(cpu):cuda:0\n",
      "EPSILON(1.0):0.99\n",
      "EPSILON_MIN(.1) :0.1\n",
      "EPSILON_DECAY(.995) :0.998\n",
      "NOISE_SIGMA(0.2):0.1\n",
      "\n"
     ]
    }
   ],
   "source": [
    "import torch\n",
    "import torch.nn as nn\n",
    "import torch.nn.functional as F\n",
    "from Parameters import Parameters\n",
    "\n",
    "p=Parameters()\n",
    "p.set_defaults()\n",
    "p.BATCH_SIZE=256\n",
    "p.STEPS_BEFORE_LEARN=20\n",
    "p.NUM_LEARN_STEPS=100\n",
    "p.STATE_SIZE=state_size\n",
    "p.ACTION_SIZE=action_size\n",
    "p.NUM_AGENTS=num_agents\n",
    "p.BUFFER_SIZE=int(1.0e5)\n",
    "p.LR_ACTOR=.0001\n",
    "p.LR_CRITIC=.001\n",
    "p.TAU = 0.06\n",
    "p.WEIGHT_DECAY=0\n",
    "p.EPSILON=.99\n",
    "p.EPSILON_DECAY=.998\n",
    "p.GAMMA = 0.94\n",
    "p.NOISE_SIGMA=0.1\n",
    "p.DEVICE=device = torch.device(\"cuda:0\" if torch.cuda.is_available() else \"cpu\")\n",
    "device = p.DEVICE\n",
    "\n",
    "print(p)"
   ]
  },
  {
   "cell_type": "markdown",
   "metadata": {},
   "source": [
    "### Create DDPG Agent"
   ]
  },
  {
   "cell_type": "code",
   "execution_count": 8,
   "metadata": {},
   "outputs": [
    {
     "name": "stderr",
     "output_type": "stream",
     "text": [
      "C:\\Users\\andy\\AppData\\Local\\conda\\conda\\envs\\deeprl\\lib\\site-packages\\torch\\cuda\\__init__.py:116: UserWarning: \n",
      "    Found GPU1 GeForce GTX 670 which is of cuda capability 3.0.\n",
      "    PyTorch no longer supports this GPU because it is too old.\n",
      "    \n",
      "  warnings.warn(old_gpu_warn % (d, name, major, capability[1]))\n"
     ]
    }
   ],
   "source": [
    "from ddpg_agent import DDPGAgent\n",
    "agent = DDPGAgent(p)"
   ]
  },
  {
   "cell_type": "markdown",
   "metadata": {},
   "source": [
    "## Helper Functions"
   ]
  },
  {
   "cell_type": "markdown",
   "metadata": {},
   "source": [
    "### savePrintScores()\n",
    "\n",
    "prints progresss and saves network\n",
    "\n",
    "- in parameters:\n",
    "    - i_episode     :   current episode\n",
    "    - save_interval :   how often to save network\n",
    "    - score_average :   current average of scores\n",
    "    - scores        :   current scores\n",
    "    - p             :   parameter object\n",
    "    \n",
    "\n",
    "\n"
   ]
  },
  {
   "cell_type": "code",
   "execution_count": 39,
   "metadata": {},
   "outputs": [],
   "source": [
    "\n",
    "def savePrintScores(i_episode,save_interval,score_average,scores,p):\n",
    "    print('\\rEpisode {}, Average Score: {:.2f}, Std Dev: {:.2f}, Eps: {:.2f}, gam: {:.2f}'\\\n",
    "          .format(i_episode, score_average, np.std(scores), p.EPSILON, p.GAMMA), end=\"\\n\")        \n",
    "\n",
    "    if i_episode % save_interval == 0:\n",
    "        torch.save(agent.actor_local.state_dict(), 'checkpoints\\checkpoint_actor2.pth')\n",
    "        torch.save(agent.critic_local.state_dict(), 'checkpoints\\checkpoint_critic2.pth')\n",
    "\n",
    "    if score_average >= 30.0:\n",
    "        print('\\nEnvironment solved in {:d} episodes!\\tAverage Score: {:.2f}'.format(i_episode, score_average))\n",
    "        if i_episode % save_interval == 0:\n",
    "            torch.save(agent.actor_local.state_dict(), 'checkpoints\\optimimum_checkpoint_actor_opt.pth')\n",
    "            torch.save(agent.critic_local.state_dict(), 'checkpoints\\optimmum_checkpoint_critic_opt.pth')\n"
   ]
  },
  {
   "cell_type": "markdown",
   "metadata": {},
   "source": [
    "### updateLrSteps()\n",
    "\n",
    "updates Learning Rate and number of steps\n",
    "\n",
    "- in parameters:\n",
    "    - i_episode     :   current episode\n",
    "    - p             :   parameter object\n",
    "    "
   ]
  },
  {
   "cell_type": "code",
   "execution_count": 11,
   "metadata": {},
   "outputs": [],
   "source": [
    "def updateLrSteps(i_episode,score_average):\n",
    "    if i_episode == 20:\n",
    "        p.STEPS_BEFORE_LEARN=40\n",
    "        p.NUM_LEARN_STEPS=30\n",
    "        agent.lr_step()\n",
    "    if i_episode  == 30:\n",
    "        p.STEPS_BEFORE_LEARN=50\n",
    "        p.NUM_LEARN_STEPS=20\n",
    "        #agent.lr_step()\n",
    "    if  i_episode == 40:\n",
    "        p.STEPS_BEFORE_LEARN=80\n",
    "        p.NUM_LEARN_STEPS=10\n",
    "        #agent.lr_step()\n",
    "    if i_episode == 4000:\n",
    "        p.STEPS_BEFORE_LEARN=30\n",
    "        p.NUM_LEARN_STEPS=10\n",
    "        #agent.lr_step()\n",
    "    if i_episode == 4500:\n",
    "        p.STEPS_BEFORE_LEARN=40\n",
    "        p.NUM_LEARN_STEPS=10\n",
    "        #agent.lr_step()\n",
    "    if score_average > 30.:\n",
    "        p.STEPS_BEFORE_LEARN=10\n",
    "        p.NUM_LEARN_STEPS=10"
   ]
  },
  {
   "cell_type": "markdown",
   "metadata": {},
   "source": [
    "### Train Agent DDPG"
   ]
  },
  {
   "cell_type": "code",
   "execution_count": 12,
   "metadata": {},
   "outputs": [
    {
     "name": "stdout",
     "output_type": "stream",
     "text": [
      "Episode 1, Average Score: 1.77, Std Dev: 1.07, Eps: 0.99, gam: 0.94\n",
      "Episode 2, Average Score: 2.20, Std Dev: 0.84, Eps: 0.99, gam: 0.94\n",
      "Episode 3, Average Score: 3.27, Std Dev: 1.59, Eps: 0.98, gam: 0.94\n",
      "Episode 4, Average Score: 3.99, Std Dev: 2.83, Eps: 0.98, gam: 0.94\n",
      "Episode 5, Average Score: 4.76, Std Dev: 3.02, Eps: 0.98, gam: 0.94\n",
      "Episode 6, Average Score: 5.47, Std Dev: 1.67, Eps: 0.98, gam: 0.95\n",
      "Episode 7, Average Score: 6.37, Std Dev: 2.94, Eps: 0.98, gam: 0.95\n",
      "Episode 8, Average Score: 7.41, Std Dev: 3.98, Eps: 0.97, gam: 0.95\n",
      "Episode 9, Average Score: 8.81, Std Dev: 3.35, Eps: 0.97, gam: 0.95\n",
      "Episode 10, Average Score: 10.28, Std Dev: 4.99, Eps: 0.97, gam: 0.95\n",
      "Episode 11, Average Score: 11.86, Std Dev: 2.91, Eps: 0.97, gam: 0.95\n",
      "Episode 12, Average Score: 13.61, Std Dev: 3.70, Eps: 0.97, gam: 0.95\n",
      "Episode 13, Average Score: 15.49, Std Dev: 1.77, Eps: 0.96, gam: 0.95\n",
      "Episode 14, Average Score: 17.10, Std Dev: 1.65, Eps: 0.96, gam: 0.95\n",
      "Episode 15, Average Score: 18.52, Std Dev: 1.70, Eps: 0.96, gam: 0.95\n",
      "Episode 16, Average Score: 19.69, Std Dev: 2.11, Eps: 0.96, gam: 0.96\n",
      "Episode 17, Average Score: 20.78, Std Dev: 1.33, Eps: 0.96, gam: 0.96\n",
      "Episode 18, Average Score: 21.72, Std Dev: 1.75, Eps: 0.95, gam: 0.96\n",
      "Episode 19, Average Score: 22.51, Std Dev: 2.08, Eps: 0.95, gam: 0.96\n",
      "Episode 20, Average Score: 23.24, Std Dev: 1.75, Eps: 0.95, gam: 0.96\n",
      "Episode 21, Average Score: 23.95, Std Dev: 1.46, Eps: 0.95, gam: 0.96\n",
      "Episode 22, Average Score: 24.60, Std Dev: 1.55, Eps: 0.95, gam: 0.96\n",
      "Episode 23, Average Score: 25.17, Std Dev: 2.21, Eps: 0.95, gam: 0.96\n",
      "Episode 24, Average Score: 25.65, Std Dev: 1.66, Eps: 0.94, gam: 0.96\n",
      "Episode 25, Average Score: 26.03, Std Dev: 2.99, Eps: 0.94, gam: 0.96\n",
      "Episode 26, Average Score: 26.15, Std Dev: 6.86, Eps: 0.94, gam: 0.96\n",
      "Episode 27, Average Score: 26.44, Std Dev: 4.57, Eps: 0.94, gam: 0.97\n",
      "Episode 28, Average Score: 26.86, Std Dev: 1.05, Eps: 0.94, gam: 0.97\n",
      "Episode 29, Average Score: 27.23, Std Dev: 3.03, Eps: 0.93, gam: 0.97\n",
      "Episode 30, Average Score: 27.59, Std Dev: 1.69, Eps: 0.93, gam: 0.97\n",
      "Episode 31, Average Score: 27.92, Std Dev: 1.55, Eps: 0.93, gam: 0.97\n",
      "Episode 32, Average Score: 28.18, Std Dev: 1.67, Eps: 0.93, gam: 0.97\n",
      "Episode 33, Average Score: 28.47, Std Dev: 1.51, Eps: 0.93, gam: 0.97\n",
      "Episode 34, Average Score: 28.73, Std Dev: 1.48, Eps: 0.92, gam: 0.97\n",
      "Episode 35, Average Score: 28.94, Std Dev: 1.84, Eps: 0.92, gam: 0.97\n",
      "Episode 36, Average Score: 29.18, Std Dev: 1.69, Eps: 0.92, gam: 0.97\n",
      "Episode 37, Average Score: 29.31, Std Dev: 4.83, Eps: 0.92, gam: 0.98\n",
      "Episode 38, Average Score: 29.42, Std Dev: 3.25, Eps: 0.92, gam: 0.98\n",
      "Episode 39, Average Score: 29.58, Std Dev: 2.21, Eps: 0.92, gam: 0.98\n",
      "Episode 40, Average Score: 29.78, Std Dev: 2.26, Eps: 0.91, gam: 0.98\n",
      "Episode 41, Average Score: 29.88, Std Dev: 3.94, Eps: 0.91, gam: 0.98\n",
      "Episode 42, Average Score: 30.01, Std Dev: 4.42, Eps: 0.91, gam: 0.98\n",
      "Episode 43, Average Score: 30.13, Std Dev: 2.37, Eps: 0.91, gam: 0.98\n",
      "Episode 44, Average Score: 30.27, Std Dev: 1.43, Eps: 0.91, gam: 0.98\n",
      "Episode 45, Average Score: 30.42, Std Dev: 2.15, Eps: 0.90, gam: 0.98\n",
      "Episode 46, Average Score: 30.58, Std Dev: 1.58, Eps: 0.90, gam: 0.98\n",
      "Episode 47, Average Score: 30.72, Std Dev: 1.52, Eps: 0.90, gam: 0.99\n",
      "Episode 48, Average Score: 30.83, Std Dev: 2.22, Eps: 0.90, gam: 0.99\n",
      "Episode 49, Average Score: 30.92, Std Dev: 1.80, Eps: 0.90, gam: 0.99\n",
      "Episode 50, Average Score: 31.06, Std Dev: 0.96, Eps: 0.90, gam: 0.99\n",
      "\n",
      "Environment solved in 50 episodes!\tAverage Score: 31.06\n",
      "Episode 51, Average Score: 31.16, Std Dev: 2.06, Eps: 0.89, gam: 0.99\n",
      "Episode 52, Average Score: 31.15, Std Dev: 3.29, Eps: 0.89, gam: 0.99\n",
      "Episode 53, Average Score: 31.03, Std Dev: 3.23, Eps: 0.89, gam: 0.99\n",
      "Episode 54, Average Score: 31.10, Std Dev: 2.69, Eps: 0.89, gam: 0.99\n",
      "Episode 55, Average Score: 31.18, Std Dev: 3.05, Eps: 0.89, gam: 0.99\n",
      "Episode 56, Average Score: 31.25, Std Dev: 2.04, Eps: 0.89, gam: 0.99\n",
      "Episode 57, Average Score: 31.27, Std Dev: 2.22, Eps: 0.88, gam: 0.99\n",
      "Episode 58, Average Score: 31.27, Std Dev: 4.22, Eps: 0.88, gam: 0.99\n",
      "Episode 59, Average Score: 31.25, Std Dev: 3.04, Eps: 0.88, gam: 0.99\n",
      "Episode 60, Average Score: 31.32, Std Dev: 1.95, Eps: 0.88, gam: 0.99\n",
      "\n",
      "Environment solved in 60 episodes!\tAverage Score: 31.32\n",
      "Episode 61, Average Score: 31.34, Std Dev: 4.23, Eps: 0.88, gam: 0.99\n",
      "Episode 62, Average Score: 31.37, Std Dev: 4.95, Eps: 0.87, gam: 0.99\n",
      "Episode 63, Average Score: 31.43, Std Dev: 3.23, Eps: 0.87, gam: 0.99\n",
      "Episode 64, Average Score: 31.51, Std Dev: 1.43, Eps: 0.87, gam: 0.99\n",
      "Episode 65, Average Score: 31.60, Std Dev: 2.24, Eps: 0.87, gam: 0.99\n",
      "Episode 66, Average Score: 31.60, Std Dev: 3.11, Eps: 0.87, gam: 0.99\n",
      "Episode 67, Average Score: 31.50, Std Dev: 4.56, Eps: 0.87, gam: 0.99\n",
      "Episode 68, Average Score: 31.42, Std Dev: 5.76, Eps: 0.86, gam: 0.99\n",
      "Episode 69, Average Score: 31.51, Std Dev: 2.04, Eps: 0.86, gam: 0.99\n",
      "Episode 70, Average Score: 31.55, Std Dev: 2.76, Eps: 0.86, gam: 0.99\n",
      "\n",
      "Environment solved in 70 episodes!\tAverage Score: 31.55\n",
      "Episode 71, Average Score: 31.62, Std Dev: 3.64, Eps: 0.86, gam: 0.99\n",
      "Episode 72, Average Score: 31.62, Std Dev: 6.98, Eps: 0.86, gam: 0.99\n",
      "Episode 73, Average Score: 31.55, Std Dev: 5.10, Eps: 0.86, gam: 0.99\n",
      "Episode 74, Average Score: 31.43, Std Dev: 5.40, Eps: 0.85, gam: 0.99\n",
      "Episode 75, Average Score: 31.34, Std Dev: 6.05, Eps: 0.85, gam: 0.99\n",
      "Episode 76, Average Score: 31.38, Std Dev: 3.17, Eps: 0.85, gam: 0.99\n",
      "Episode 77, Average Score: 31.46, Std Dev: 1.85, Eps: 0.85, gam: 0.99\n",
      "Episode 78, Average Score: 31.54, Std Dev: 1.93, Eps: 0.85, gam: 0.99\n",
      "Episode 79, Average Score: 31.61, Std Dev: 1.91, Eps: 0.85, gam: 0.99\n",
      "Episode 80, Average Score: 31.67, Std Dev: 3.69, Eps: 0.84, gam: 0.99\n",
      "\n",
      "Environment solved in 80 episodes!\tAverage Score: 31.67\n",
      "Episode 81, Average Score: 31.72, Std Dev: 4.05, Eps: 0.84, gam: 0.99\n",
      "Episode 82, Average Score: 31.78, Std Dev: 2.39, Eps: 0.84, gam: 0.99\n",
      "Episode 83, Average Score: 31.82, Std Dev: 1.78, Eps: 0.84, gam: 0.99\n",
      "Episode 84, Average Score: 31.79, Std Dev: 5.29, Eps: 0.84, gam: 0.99\n",
      "Episode 85, Average Score: 31.73, Std Dev: 7.71, Eps: 0.84, gam: 0.99\n",
      "Episode 86, Average Score: 31.74, Std Dev: 3.91, Eps: 0.83, gam: 0.99\n",
      "Episode 87, Average Score: 31.72, Std Dev: 5.41, Eps: 0.83, gam: 0.99\n",
      "Episode 88, Average Score: 31.77, Std Dev: 1.95, Eps: 0.83, gam: 0.99\n",
      "Episode 89, Average Score: 31.84, Std Dev: 1.12, Eps: 0.83, gam: 0.99\n",
      "Episode 90, Average Score: 31.87, Std Dev: 2.81, Eps: 0.83, gam: 0.99\n",
      "\n",
      "Environment solved in 90 episodes!\tAverage Score: 31.87\n",
      "Episode 91, Average Score: 31.94, Std Dev: 0.86, Eps: 0.83, gam: 0.99\n",
      "Episode 92, Average Score: 31.98, Std Dev: 3.26, Eps: 0.82, gam: 0.99\n",
      "Episode 93, Average Score: 32.03, Std Dev: 3.17, Eps: 0.82, gam: 0.99\n",
      "Episode 94, Average Score: 32.03, Std Dev: 2.43, Eps: 0.82, gam: 0.99\n",
      "Episode 95, Average Score: 32.01, Std Dev: 3.99, Eps: 0.82, gam: 0.99\n",
      "Episode 96, Average Score: 31.82, Std Dev: 5.53, Eps: 0.82, gam: 0.99\n",
      "Episode 97, Average Score: 31.71, Std Dev: 8.35, Eps: 0.82, gam: 0.99\n",
      "Episode 98, Average Score: 31.66, Std Dev: 5.83, Eps: 0.81, gam: 0.99\n",
      "Episode 99, Average Score: 31.71, Std Dev: 1.39, Eps: 0.81, gam: 0.99\n",
      "Episode 100, Average Score: 31.75, Std Dev: 2.60, Eps: 0.81, gam: 0.99\n",
      "\n",
      "Environment solved in 100 episodes!\tAverage Score: 31.75\n",
      "Episode 101, Average Score: 31.81, Std Dev: 3.26, Eps: 0.81, gam: 0.99\n",
      "Episode 102, Average Score: 31.87, Std Dev: 0.89, Eps: 0.81, gam: 0.99\n",
      "Episode 103, Average Score: 31.89, Std Dev: 3.44, Eps: 0.81, gam: 0.99\n",
      "Episode 104, Average Score: 31.88, Std Dev: 4.42, Eps: 0.80, gam: 0.99\n",
      "Episode 105, Average Score: 31.82, Std Dev: 5.12, Eps: 0.80, gam: 0.99\n",
      "Episode 106, Average Score: 31.87, Std Dev: 1.52, Eps: 0.80, gam: 0.99\n",
      "Episode 107, Average Score: 31.87, Std Dev: 2.08, Eps: 0.80, gam: 0.99\n",
      "Episode 108, Average Score: 31.92, Std Dev: 2.19, Eps: 0.80, gam: 0.99\n",
      "Episode 109, Average Score: 31.98, Std Dev: 1.42, Eps: 0.80, gam: 0.99\n",
      "Episode 110, Average Score: 32.03, Std Dev: 3.19, Eps: 0.79, gam: 0.99\n",
      "\n",
      "Environment solved in 110 episodes!\tAverage Score: 32.03\n",
      "Episode 111, Average Score: 32.06, Std Dev: 4.81, Eps: 0.79, gam: 0.99\n",
      "Episode 112, Average Score: 32.04, Std Dev: 4.50, Eps: 0.79, gam: 0.99\n"
     ]
    },
    {
     "name": "stdout",
     "output_type": "stream",
     "text": [
      "Episode 113, Average Score: 32.01, Std Dev: 5.04, Eps: 0.79, gam: 0.99\n",
      "Episode 114, Average Score: 32.03, Std Dev: 3.04, Eps: 0.79, gam: 0.99\n",
      "Episode 115, Average Score: 32.07, Std Dev: 2.34, Eps: 0.79, gam: 0.99\n",
      "Episode 116, Average Score: 32.11, Std Dev: 2.48, Eps: 0.78, gam: 0.99\n",
      "Episode 117, Average Score: 32.15, Std Dev: 3.31, Eps: 0.78, gam: 0.99\n",
      "Episode 118, Average Score: 32.17, Std Dev: 2.63, Eps: 0.78, gam: 0.99\n",
      "Episode 119, Average Score: 32.17, Std Dev: 4.68, Eps: 0.78, gam: 0.99\n",
      "Episode 120, Average Score: 32.08, Std Dev: 8.64, Eps: 0.78, gam: 0.99\n",
      "\n",
      "Environment solved in 120 episodes!\tAverage Score: 32.08\n",
      "Episode 121, Average Score: 32.03, Std Dev: 5.14, Eps: 0.78, gam: 0.99\n",
      "Episode 122, Average Score: 32.03, Std Dev: 7.13, Eps: 0.78, gam: 0.99\n",
      "Episode 123, Average Score: 32.03, Std Dev: 4.84, Eps: 0.77, gam: 0.99\n",
      "Episode 124, Average Score: 32.08, Std Dev: 1.66, Eps: 0.77, gam: 0.99\n",
      "Episode 125, Average Score: 32.12, Std Dev: 0.95, Eps: 0.77, gam: 0.99\n",
      "Episode 126, Average Score: 32.16, Std Dev: 2.45, Eps: 0.77, gam: 0.99\n",
      "Episode 127, Average Score: 32.21, Std Dev: 1.49, Eps: 0.77, gam: 0.99\n",
      "Episode 128, Average Score: 32.24, Std Dev: 2.62, Eps: 0.77, gam: 0.99\n",
      "Episode 129, Average Score: 32.26, Std Dev: 2.68, Eps: 0.76, gam: 0.99\n",
      "Episode 130, Average Score: 32.19, Std Dev: 8.17, Eps: 0.76, gam: 0.99\n",
      "\n",
      "Environment solved in 130 episodes!\tAverage Score: 32.19\n",
      "Episode 131, Average Score: 32.12, Std Dev: 6.29, Eps: 0.76, gam: 0.99\n",
      "Episode 132, Average Score: 32.15, Std Dev: 3.64, Eps: 0.76, gam: 0.99\n",
      "Episode 133, Average Score: 32.18, Std Dev: 2.29, Eps: 0.76, gam: 0.99\n",
      "Episode 134, Average Score: 32.23, Std Dev: 2.85, Eps: 0.76, gam: 0.99\n",
      "Episode 135, Average Score: 32.27, Std Dev: 1.34, Eps: 0.76, gam: 0.99\n",
      "Episode 136, Average Score: 32.32, Std Dev: 0.60, Eps: 0.75, gam: 0.99\n",
      "Episode 137, Average Score: 32.37, Std Dev: 1.55, Eps: 0.75, gam: 0.99\n",
      "Episode 138, Average Score: 32.40, Std Dev: 3.31, Eps: 0.75, gam: 0.99\n",
      "Episode 139, Average Score: 32.42, Std Dev: 2.26, Eps: 0.75, gam: 0.99\n",
      "Episode 140, Average Score: 32.44, Std Dev: 3.72, Eps: 0.75, gam: 0.99\n",
      "\n",
      "Environment solved in 140 episodes!\tAverage Score: 32.44\n",
      "Episode 141, Average Score: 32.41, Std Dev: 9.44, Eps: 0.75, gam: 0.99\n",
      "Episode 142, Average Score: 32.40, Std Dev: 6.64, Eps: 0.75, gam: 0.99\n",
      "Episode 143, Average Score: 32.40, Std Dev: 3.51, Eps: 0.74, gam: 0.99\n",
      "Episode 144, Average Score: 32.41, Std Dev: 3.06, Eps: 0.74, gam: 0.99\n",
      "Episode 145, Average Score: 32.39, Std Dev: 7.04, Eps: 0.74, gam: 0.99\n",
      "Episode 146, Average Score: 32.37, Std Dev: 7.98, Eps: 0.74, gam: 0.99\n",
      "Episode 147, Average Score: 32.37, Std Dev: 4.33, Eps: 0.74, gam: 0.99\n",
      "Episode 148, Average Score: 32.41, Std Dev: 3.42, Eps: 0.74, gam: 0.99\n",
      "Episode 149, Average Score: 32.44, Std Dev: 1.87, Eps: 0.73, gam: 0.99\n",
      "Episode 150, Average Score: 32.46, Std Dev: 3.13, Eps: 0.73, gam: 0.99\n",
      "\n",
      "Environment solved in 150 episodes!\tAverage Score: 32.46\n",
      "Episode 151, Average Score: 32.46, Std Dev: 5.41, Eps: 0.73, gam: 0.99\n",
      "Episode 152, Average Score: 32.41, Std Dev: 7.68, Eps: 0.73, gam: 0.99\n",
      "Episode 153, Average Score: 32.37, Std Dev: 6.25, Eps: 0.73, gam: 0.99\n",
      "Episode 154, Average Score: 32.33, Std Dev: 4.73, Eps: 0.73, gam: 0.99\n",
      "Episode 155, Average Score: 32.35, Std Dev: 2.60, Eps: 0.73, gam: 0.99\n",
      "Episode 156, Average Score: 32.35, Std Dev: 3.85, Eps: 0.72, gam: 0.99\n",
      "Episode 157, Average Score: 32.39, Std Dev: 1.53, Eps: 0.72, gam: 0.99\n",
      "Episode 158, Average Score: 32.42, Std Dev: 1.73, Eps: 0.72, gam: 0.99\n",
      "Episode 159, Average Score: 32.42, Std Dev: 5.87, Eps: 0.72, gam: 0.99\n",
      "Episode 160, Average Score: 32.45, Std Dev: 3.25, Eps: 0.72, gam: 0.99\n",
      "\n",
      "Environment solved in 160 episodes!\tAverage Score: 32.45\n",
      "Episode 161, Average Score: 32.40, Std Dev: 4.87, Eps: 0.72, gam: 0.99\n",
      "Episode 162, Average Score: 32.35, Std Dev: 8.51, Eps: 0.72, gam: 0.99\n",
      "Episode 163, Average Score: 32.36, Std Dev: 4.54, Eps: 0.71, gam: 0.99\n",
      "Episode 164, Average Score: 32.38, Std Dev: 3.28, Eps: 0.71, gam: 0.99\n",
      "Episode 165, Average Score: 32.38, Std Dev: 3.20, Eps: 0.71, gam: 0.99\n",
      "Episode 166, Average Score: 32.38, Std Dev: 4.33, Eps: 0.71, gam: 0.99\n",
      "Episode 167, Average Score: 32.39, Std Dev: 4.37, Eps: 0.71, gam: 0.99\n",
      "Episode 168, Average Score: 32.41, Std Dev: 5.42, Eps: 0.71, gam: 0.99\n",
      "Episode 169, Average Score: 32.44, Std Dev: 2.46, Eps: 0.71, gam: 0.99\n",
      "Episode 170, Average Score: 32.45, Std Dev: 4.03, Eps: 0.70, gam: 0.99\n",
      "\n",
      "Environment solved in 170 episodes!\tAverage Score: 32.45\n",
      "Episode 171, Average Score: 32.45, Std Dev: 5.64, Eps: 0.70, gam: 0.99\n",
      "Episode 172, Average Score: 32.46, Std Dev: 3.28, Eps: 0.70, gam: 0.99\n",
      "Episode 173, Average Score: 32.44, Std Dev: 3.89, Eps: 0.70, gam: 0.99\n",
      "Episode 174, Average Score: 32.41, Std Dev: 5.51, Eps: 0.70, gam: 0.99\n",
      "Episode 175, Average Score: 32.41, Std Dev: 5.49, Eps: 0.70, gam: 0.99\n",
      "Episode 176, Average Score: 32.39, Std Dev: 7.82, Eps: 0.70, gam: 0.99\n",
      "Episode 177, Average Score: 32.40, Std Dev: 4.71, Eps: 0.69, gam: 0.99\n",
      "Episode 178, Average Score: 32.43, Std Dev: 1.72, Eps: 0.69, gam: 0.99\n",
      "Episode 179, Average Score: 32.44, Std Dev: 3.59, Eps: 0.69, gam: 0.99\n",
      "Episode 180, Average Score: 32.43, Std Dev: 3.89, Eps: 0.69, gam: 0.99\n",
      "\n",
      "Environment solved in 180 episodes!\tAverage Score: 32.43\n",
      "Episode 181, Average Score: 32.43, Std Dev: 5.04, Eps: 0.69, gam: 0.99\n",
      "Episode 182, Average Score: 32.44, Std Dev: 3.80, Eps: 0.69, gam: 0.99\n",
      "Episode 183, Average Score: 32.45, Std Dev: 3.10, Eps: 0.69, gam: 0.99\n",
      "Episode 184, Average Score: 32.48, Std Dev: 1.92, Eps: 0.68, gam: 0.99\n",
      "Episode 185, Average Score: 32.50, Std Dev: 3.19, Eps: 0.68, gam: 0.99\n",
      "Episode 186, Average Score: 32.52, Std Dev: 3.72, Eps: 0.68, gam: 0.99\n",
      "Episode 187, Average Score: 32.51, Std Dev: 6.04, Eps: 0.68, gam: 0.99\n",
      "Episode 188, Average Score: 32.52, Std Dev: 6.76, Eps: 0.68, gam: 0.99\n",
      "Episode 189, Average Score: 32.52, Std Dev: 5.44, Eps: 0.68, gam: 0.99\n",
      "Episode 190, Average Score: 32.50, Std Dev: 5.02, Eps: 0.68, gam: 0.99\n",
      "\n",
      "Environment solved in 190 episodes!\tAverage Score: 32.50\n",
      "Episode 191, Average Score: 32.52, Std Dev: 3.38, Eps: 0.68, gam: 0.99\n",
      "Episode 192, Average Score: 32.53, Std Dev: 3.14, Eps: 0.67, gam: 0.99\n",
      "Episode 193, Average Score: 32.55, Std Dev: 3.10, Eps: 0.67, gam: 0.99\n",
      "Episode 194, Average Score: 32.56, Std Dev: 4.33, Eps: 0.67, gam: 0.99\n",
      "Episode 195, Average Score: 32.58, Std Dev: 3.71, Eps: 0.67, gam: 0.99\n",
      "Episode 196, Average Score: 32.58, Std Dev: 5.19, Eps: 0.67, gam: 0.99\n",
      "Episode 197, Average Score: 32.59, Std Dev: 4.20, Eps: 0.67, gam: 0.99\n",
      "Episode 198, Average Score: 32.61, Std Dev: 2.95, Eps: 0.67, gam: 0.99\n",
      "Episode 199, Average Score: 32.59, Std Dev: 7.63, Eps: 0.66, gam: 0.99\n",
      "Episode 200, Average Score: 32.48, Std Dev: 5.27, Eps: 0.66, gam: 0.99\n",
      "\n",
      "Environment solved in 200 episodes!\tAverage Score: 32.48\n",
      "Episode 201, Average Score: 32.43, Std Dev: 8.21, Eps: 0.66, gam: 0.99\n",
      "Episode 202, Average Score: 32.44, Std Dev: 3.56, Eps: 0.66, gam: 0.99\n",
      "Episode 203, Average Score: 32.46, Std Dev: 3.48, Eps: 0.66, gam: 0.99\n",
      "Episode 204, Average Score: 32.47, Std Dev: 3.38, Eps: 0.66, gam: 0.99\n",
      "Episode 205, Average Score: 32.49, Std Dev: 3.56, Eps: 0.66, gam: 0.99\n",
      "Episode 206, Average Score: 32.50, Std Dev: 4.98, Eps: 0.66, gam: 0.99\n",
      "Episode 207, Average Score: 32.52, Std Dev: 3.38, Eps: 0.65, gam: 0.99\n",
      "Episode 208, Average Score: 32.52, Std Dev: 4.54, Eps: 0.65, gam: 0.99\n",
      "Episode 209, Average Score: 32.48, Std Dev: 5.99, Eps: 0.65, gam: 0.99\n",
      "Episode 210, Average Score: 32.47, Std Dev: 4.73, Eps: 0.65, gam: 0.99\n",
      "\n",
      "Environment solved in 210 episodes!\tAverage Score: 32.47\n",
      "Episode 211, Average Score: 32.48, Std Dev: 6.24, Eps: 0.65, gam: 0.99\n",
      "Episode 212, Average Score: 32.48, Std Dev: 6.62, Eps: 0.65, gam: 0.99\n",
      "Episode 213, Average Score: 32.50, Std Dev: 3.75, Eps: 0.65, gam: 0.99\n",
      "Episode 214, Average Score: 32.52, Std Dev: 1.89, Eps: 0.65, gam: 0.99\n",
      "Episode 215, Average Score: 32.53, Std Dev: 3.33, Eps: 0.64, gam: 0.99\n",
      "Episode 216, Average Score: 32.54, Std Dev: 3.42, Eps: 0.64, gam: 0.99\n",
      "Episode 217, Average Score: 32.47, Std Dev: 9.77, Eps: 0.64, gam: 0.99\n",
      "Episode 218, Average Score: 32.41, Std Dev: 4.47, Eps: 0.64, gam: 0.99\n",
      "Episode 219, Average Score: 32.42, Std Dev: 3.09, Eps: 0.64, gam: 0.99\n",
      "Episode 220, Average Score: 32.43, Std Dev: 3.94, Eps: 0.64, gam: 0.99\n",
      "\n",
      "Environment solved in 220 episodes!\tAverage Score: 32.43\n"
     ]
    },
    {
     "name": "stdout",
     "output_type": "stream",
     "text": [
      "Episode 221, Average Score: 32.44, Std Dev: 4.98, Eps: 0.64, gam: 0.99\n",
      "Episode 222, Average Score: 32.47, Std Dev: 2.95, Eps: 0.63, gam: 0.99\n",
      "Episode 223, Average Score: 32.50, Std Dev: 0.67, Eps: 0.63, gam: 0.99\n",
      "Episode 224, Average Score: 32.51, Std Dev: 1.65, Eps: 0.63, gam: 0.99\n",
      "Episode 225, Average Score: 32.51, Std Dev: 4.07, Eps: 0.63, gam: 0.99\n",
      "Episode 226, Average Score: 32.51, Std Dev: 5.67, Eps: 0.63, gam: 0.99\n",
      "Episode 227, Average Score: 32.50, Std Dev: 5.19, Eps: 0.63, gam: 0.99\n"
     ]
    },
    {
     "ename": "KeyboardInterrupt",
     "evalue": "",
     "output_type": "error",
     "traceback": [
      "\u001b[1;31m---------------------------------------------------------------------------\u001b[0m",
      "\u001b[1;31mKeyboardInterrupt\u001b[0m                         Traceback (most recent call last)",
      "\u001b[1;32m<ipython-input-12-e877c8546e45>\u001b[0m in \u001b[0;36m<module>\u001b[1;34m\u001b[0m\n\u001b[0;32m     51\u001b[0m     \u001b[1;32mreturn\u001b[0m \u001b[0mscores_global\u001b[0m\u001b[1;33m,\u001b[0m \u001b[0maverage_global\u001b[0m\u001b[1;33m\u001b[0m\u001b[0m\n\u001b[0;32m     52\u001b[0m \u001b[1;33m\u001b[0m\u001b[0m\n\u001b[1;32m---> 53\u001b[1;33m \u001b[0mscores\u001b[0m\u001b[1;33m,\u001b[0m \u001b[0maverages\u001b[0m \u001b[1;33m=\u001b[0m \u001b[0mddpg\u001b[0m\u001b[1;33m(\u001b[0m\u001b[1;33m)\u001b[0m\u001b[1;33m\u001b[0m\u001b[0m\n\u001b[0m",
      "\u001b[1;32m<ipython-input-12-e877c8546e45>\u001b[0m in \u001b[0;36mddpg\u001b[1;34m(n_episodes, save_interval)\u001b[0m\n\u001b[0;32m     26\u001b[0m             \u001b[0mrewards\u001b[0m \u001b[1;33m=\u001b[0m \u001b[0menv_info\u001b[0m\u001b[1;33m.\u001b[0m\u001b[0mrewards\u001b[0m                         \u001b[1;31m# get reward (for each agent)\u001b[0m\u001b[1;33m\u001b[0m\u001b[0m\n\u001b[0;32m     27\u001b[0m             \u001b[0mdones\u001b[0m \u001b[1;33m=\u001b[0m \u001b[0menv_info\u001b[0m\u001b[1;33m.\u001b[0m\u001b[0mlocal_done\u001b[0m                        \u001b[1;31m# see if any episode finished\u001b[0m\u001b[1;33m\u001b[0m\u001b[0m\n\u001b[1;32m---> 28\u001b[1;33m             \u001b[0magent\u001b[0m\u001b[1;33m.\u001b[0m\u001b[0mstep\u001b[0m\u001b[1;33m(\u001b[0m\u001b[0mprev_states\u001b[0m\u001b[1;33m,\u001b[0m \u001b[0mstates\u001b[0m\u001b[1;33m,\u001b[0m \u001b[0mactions\u001b[0m\u001b[1;33m,\u001b[0m \u001b[0mrewards\u001b[0m\u001b[1;33m,\u001b[0m \u001b[0mnext_states\u001b[0m\u001b[1;33m,\u001b[0m \u001b[0mdones\u001b[0m\u001b[1;33m)\u001b[0m \u001b[1;31m# take a step using agent\u001b[0m\u001b[1;33m\u001b[0m\u001b[0m\n\u001b[0m\u001b[0;32m     29\u001b[0m             \u001b[0mprev_states\u001b[0m \u001b[1;33m=\u001b[0m \u001b[0mstates\u001b[0m\u001b[1;33m\u001b[0m\u001b[0m\n\u001b[0;32m     30\u001b[0m             \u001b[0mstates\u001b[0m \u001b[1;33m=\u001b[0m \u001b[0mnext_states\u001b[0m                               \u001b[1;31m# roll over states to next time step\u001b[0m\u001b[1;33m\u001b[0m\u001b[0m\n",
      "\u001b[1;32mP:\\Users\\andy\\Dropbox\\_UDACITY\\Reinforcement Learning\\deep-reinforcement-learning\\p2_continuous-control\\ddpg_agent.py\u001b[0m in \u001b[0;36mstep\u001b[1;34m(self, prev_states, states, actions, rewards, next_states, dones)\u001b[0m\n\u001b[0;32m     65\u001b[0m             \u001b[0mself\u001b[0m\u001b[1;33m.\u001b[0m\u001b[0mupdate_count\u001b[0m\u001b[1;33m=\u001b[0m\u001b[1;36m0\u001b[0m\u001b[1;33m\u001b[0m\u001b[0m\n\u001b[0;32m     66\u001b[0m             \u001b[1;32mfor\u001b[0m \u001b[0m_\u001b[0m \u001b[1;32min\u001b[0m \u001b[0mrange\u001b[0m\u001b[1;33m(\u001b[0m\u001b[0mself\u001b[0m\u001b[1;33m.\u001b[0m\u001b[0mp\u001b[0m\u001b[1;33m.\u001b[0m\u001b[0mNUM_LEARN_STEPS\u001b[0m\u001b[1;33m)\u001b[0m\u001b[1;33m:\u001b[0m\u001b[1;33m\u001b[0m\u001b[0m\n\u001b[1;32m---> 67\u001b[1;33m                 \u001b[0mexperiences\u001b[0m \u001b[1;33m=\u001b[0m \u001b[0mself\u001b[0m\u001b[1;33m.\u001b[0m\u001b[0mmemory\u001b[0m\u001b[1;33m.\u001b[0m\u001b[0msample\u001b[0m\u001b[1;33m(\u001b[0m\u001b[1;33m)\u001b[0m\u001b[1;33m\u001b[0m\u001b[0m\n\u001b[0m\u001b[0;32m     68\u001b[0m                 \u001b[0mself\u001b[0m\u001b[1;33m.\u001b[0m\u001b[0mlearn\u001b[0m\u001b[1;33m(\u001b[0m\u001b[0mexperiences\u001b[0m\u001b[1;33m,\u001b[0m \u001b[0mself\u001b[0m\u001b[1;33m.\u001b[0m\u001b[0mp\u001b[0m\u001b[1;33m.\u001b[0m\u001b[0mGAMMA\u001b[0m\u001b[1;33m)\u001b[0m\u001b[1;33m\u001b[0m\u001b[0m\n\u001b[0;32m     69\u001b[0m \u001b[1;33m\u001b[0m\u001b[0m\n",
      "\u001b[1;32mP:\\Users\\andy\\Dropbox\\_UDACITY\\Reinforcement Learning\\deep-reinforcement-learning\\p2_continuous-control\\ReplayBuffer.py\u001b[0m in \u001b[0;36msample\u001b[1;34m(self)\u001b[0m\n\u001b[0;32m     30\u001b[0m         \u001b[0mexperiences\u001b[0m \u001b[1;33m=\u001b[0m \u001b[0mrandom\u001b[0m\u001b[1;33m.\u001b[0m\u001b[0msample\u001b[0m\u001b[1;33m(\u001b[0m\u001b[0mself\u001b[0m\u001b[1;33m.\u001b[0m\u001b[0mmemory\u001b[0m\u001b[1;33m,\u001b[0m \u001b[0mk\u001b[0m\u001b[1;33m=\u001b[0m\u001b[0mself\u001b[0m\u001b[1;33m.\u001b[0m\u001b[0mp\u001b[0m\u001b[1;33m.\u001b[0m\u001b[0mBATCH_SIZE\u001b[0m\u001b[1;33m)\u001b[0m\u001b[1;33m\u001b[0m\u001b[0m\n\u001b[0;32m     31\u001b[0m \u001b[1;33m\u001b[0m\u001b[0m\n\u001b[1;32m---> 32\u001b[1;33m         prev_states = torch.from_numpy(np.vstack([e.prev_state for e in experiences if e is not None])).float().to(\n\u001b[0m\u001b[0;32m     33\u001b[0m             self.p.DEVICE)\n\u001b[0;32m     34\u001b[0m         \u001b[0mstates\u001b[0m \u001b[1;33m=\u001b[0m \u001b[0mtorch\u001b[0m\u001b[1;33m.\u001b[0m\u001b[0mfrom_numpy\u001b[0m\u001b[1;33m(\u001b[0m\u001b[0mnp\u001b[0m\u001b[1;33m.\u001b[0m\u001b[0mvstack\u001b[0m\u001b[1;33m(\u001b[0m\u001b[1;33m[\u001b[0m\u001b[0me\u001b[0m\u001b[1;33m.\u001b[0m\u001b[0mstate\u001b[0m \u001b[1;32mfor\u001b[0m \u001b[0me\u001b[0m \u001b[1;32min\u001b[0m \u001b[0mexperiences\u001b[0m \u001b[1;32mif\u001b[0m \u001b[0me\u001b[0m \u001b[1;32mis\u001b[0m \u001b[1;32mnot\u001b[0m \u001b[1;32mNone\u001b[0m\u001b[1;33m]\u001b[0m\u001b[1;33m)\u001b[0m\u001b[1;33m)\u001b[0m\u001b[1;33m.\u001b[0m\u001b[0mfloat\u001b[0m\u001b[1;33m(\u001b[0m\u001b[1;33m)\u001b[0m\u001b[1;33m.\u001b[0m\u001b[0mto\u001b[0m\u001b[1;33m(\u001b[0m\u001b[0mself\u001b[0m\u001b[1;33m.\u001b[0m\u001b[0mp\u001b[0m\u001b[1;33m.\u001b[0m\u001b[0mDEVICE\u001b[0m\u001b[1;33m)\u001b[0m\u001b[1;33m\u001b[0m\u001b[0m\n",
      "\u001b[1;32m~\\AppData\\Local\\conda\\conda\\envs\\deeprl\\lib\\site-packages\\numpy\\core\\shape_base.py\u001b[0m in \u001b[0;36mvstack\u001b[1;34m(tup)\u001b[0m\n\u001b[0;32m    232\u001b[0m \u001b[1;33m\u001b[0m\u001b[0m\n\u001b[0;32m    233\u001b[0m     \"\"\"\n\u001b[1;32m--> 234\u001b[1;33m     \u001b[1;32mreturn\u001b[0m \u001b[0m_nx\u001b[0m\u001b[1;33m.\u001b[0m\u001b[0mconcatenate\u001b[0m\u001b[1;33m(\u001b[0m\u001b[1;33m[\u001b[0m\u001b[0matleast_2d\u001b[0m\u001b[1;33m(\u001b[0m\u001b[0m_m\u001b[0m\u001b[1;33m)\u001b[0m \u001b[1;32mfor\u001b[0m \u001b[0m_m\u001b[0m \u001b[1;32min\u001b[0m \u001b[0mtup\u001b[0m\u001b[1;33m]\u001b[0m\u001b[1;33m,\u001b[0m \u001b[1;36m0\u001b[0m\u001b[1;33m)\u001b[0m\u001b[1;33m\u001b[0m\u001b[0m\n\u001b[0m\u001b[0;32m    235\u001b[0m \u001b[1;33m\u001b[0m\u001b[0m\n\u001b[0;32m    236\u001b[0m \u001b[1;32mdef\u001b[0m \u001b[0mhstack\u001b[0m\u001b[1;33m(\u001b[0m\u001b[0mtup\u001b[0m\u001b[1;33m)\u001b[0m\u001b[1;33m:\u001b[0m\u001b[1;33m\u001b[0m\u001b[0m\n",
      "\u001b[1;31mKeyboardInterrupt\u001b[0m: "
     ]
    }
   ],
   "source": [
    "from collections import deque\n",
    "\n",
    "average_period=100\n",
    "scores_deque = deque(maxlen=average_period)\n",
    "scores_global = []\n",
    "average_global = []\n",
    "\n",
    "p.STEPS_BEFORE_LEARN=20\n",
    "p.NUM_LEARN_STEPS=100\n",
    "\n",
    "\n",
    "def ddpg(n_episodes=1000,save_interval=10):\n",
    "        \n",
    "    for i_episode in range(1, n_episodes+1):\n",
    "        env_info = env.reset(train_mode=True)[brain_name]      # reset the environment    \n",
    "        states = env_info.vector_observations                  # get the current state (for each agent)\n",
    "        prev_states=states\n",
    "        agent.reset()\n",
    "        scores = np.zeros(num_agents)                          # initialize the score (for each agent)\n",
    "        score_average = 0\n",
    "\n",
    "        while(True):\n",
    "            actions = agent.act(prev_states,states, add_noise=True)\n",
    "            env_info = env.step(actions)[brain_name]           # send all actions to the environment\n",
    "            next_states = env_info.vector_observations         # get next state (for each agent)\n",
    "            rewards = env_info.rewards                         # get reward (for each agent)\n",
    "            dones = env_info.local_done                        # see if any episode finished\n",
    "            agent.step(prev_states, states, actions, rewards, next_states, dones) # take a step using agent\n",
    "            prev_states = states\n",
    "            states = next_states                               # roll over states to next time step\n",
    "            scores += rewards                                  # update the score (for each agent)\n",
    "            if np.any(dones):                                  # exit loop if episode finished\n",
    "                break\n",
    "                \n",
    "        score = np.mean(scores)\n",
    "        scores_deque.append(score)\n",
    "        score_average = np.mean(scores_deque)\n",
    "        scores_global.append(score)\n",
    "        average_global.append(score_average)\n",
    "        \n",
    "        updateLrSteps(i_episode,score_average)\n",
    "\n",
    "        p.EPSILON = max(p.EPSILON * p.EPSILON_DECAY,p.EPSILON_MIN)\n",
    "        p.GAMMA = min(p.GAMMA_MAX,p.GAMMA*p.GAMMA_DECAY)\n",
    "        \n",
    "        savePrintScores(i_episode,save_interval,score_average,scores,p)\n",
    "        \n",
    "        if score_average >=40.0: \n",
    "                break\n",
    "\n",
    "    return scores_global, average_global\n",
    "\n",
    "scores, averages = ddpg()\n"
   ]
  },
  {
   "cell_type": "markdown",
   "metadata": {},
   "source": [
    "### Save latest checkpoints"
   ]
  },
  {
   "cell_type": "code",
   "execution_count": 62,
   "metadata": {},
   "outputs": [],
   "source": [
    "torch.save(agent.actor_local.state_dict(), 'checkpoints\\optimum_checkpoint_actor.pth')\n",
    "torch.save(agent.critic_local.state_dict(), 'checkpoints\\optimum_checkpoint_critic.pth')"
   ]
  },
  {
   "cell_type": "markdown",
   "metadata": {},
   "source": [
    "### Plot Training Results"
   ]
  },
  {
   "cell_type": "code",
   "execution_count": 63,
   "metadata": {},
   "outputs": [
    {
     "data": {
      "image/png": "[encoded data removed]",
      "text/plain": [
       "<Figure size 432x288 with 1 Axes>"
      ]
     },
     "metadata": {
      "needs_background": "light"
     },
     "output_type": "display_data"
    },
    {
     "data": {
      "image/png": "[encoded data removed]",
      "text/plain": [
       "<Figure size 432x288 with 1 Axes>"
      ]
     },
     "metadata": {
      "needs_background": "light"
     },
     "output_type": "display_data"
    }
   ],
   "source": [
    "import pandas as pd\n",
    "\n",
    "\n",
    "stdm=[average_global[i]-np.std(scores_global[i-20:i+3]) for i in range(len(scores_global))]\n",
    "stdp=[average_global[i]+np.std(scores_global[i-20:i+3]) for i in range(len(scores_global))]\n",
    "\n",
    "plt.plot(np.arange(1, len(scores_global)+1), average_global,color='black',label='avg score')\n",
    "plt.plot(np.arange(1, len(scores_global)+1), stdm,color='green',label='+/- std dev')\n",
    "plt.plot(np.arange(1, len(scores_global)+1), stdp,color='green')\n",
    "plt.fill_between(range(len(scores_global)),\n",
    "                 stdm,\n",
    "                 stdp,\n",
    "                 color='green',alpha=0.1,interpolate=True)\n",
    "plt.title(\"Average Score per episode - 20 Agents\")\n",
    "plt.axhline(y=30.0, color='r', linestyle='-')\n",
    "plt.ylabel('Average Score (per episodes)')\n",
    "plt.xlabel('Episode #')\n",
    "plt.legend(loc='upper left')\n",
    "plt.show()\n",
    "\n",
    "fig = plt.figure()\n",
    "plt.title(\"Raw Scores, with Noise - 20 Agents\")\n",
    "plt.plot(np.arange(1, len(scores_global)+1), scores_global)\n",
    "plt.ylabel('Score')\n",
    "plt.xlabel('Episode #')\n",
    "plt.show()\n",
    "\n"
   ]
  },
  {
   "cell_type": "markdown",
   "metadata": {},
   "source": [
    "## Run a trained network\n",
    "\n",
    "- Runs the trained network for 100 episodes"
   ]
  },
  {
   "cell_type": "code",
   "execution_count": 51,
   "metadata": {},
   "outputs": [
    {
     "name": "stdout",
     "output_type": "stream",
     "text": [
      "run score= 36.76949917813763  average= 36.76949917813763\n",
      "run score= 37.62449915902689  average= 37.19699916858226\n",
      "run score= 36.91349917491898  average= 37.1024991706945\n",
      "run score= 35.49799920655787  average= 36.70137417966034\n",
      "run score= 36.84049917655066  average= 36.7291991790384\n",
      "run score= 36.82749917684123  average= 36.74558251200554\n",
      "run score= 36.5574991828762  average= 36.71871346498706\n",
      "run score= 36.038499194476756  average= 36.63368668117328\n",
      "run score= 35.51999920606613  average= 36.509943628383596\n",
      "run score= 36.810999177210036  average= 36.54004918326624\n",
      "run score= 37.74599915631116  average= 36.649680998997596\n",
      "run score= 36.86649917596951  average= 36.667749180411924\n",
      "run score= 37.48499916214496  average= 36.730614563622154\n",
      "run score= 37.3594991649501  average= 36.775534892288434\n",
      "run score= 36.90849917503074  average= 36.784399177804595\n",
      "run score= 35.65899920295924  average= 36.714061679376755\n",
      "run score= 35.48099920693785  average= 36.641528592762704\n",
      "run score= 36.45699918512255  average= 36.631276959004914\n",
      "run score= 35.151499214302746  average= 36.55339391981006\n",
      "run score= 37.32049916582182  average= 36.591749182110654\n",
      "run score= 36.54999918304384  average= 36.589761086916994\n",
      "run score= 35.87549919812009  average= 36.557294637426224\n",
      "run score= 36.229999190196395  average= 36.54306440059015\n",
      "run score= 35.68449920238927  average= 36.50729085066511\n",
      "run score= 37.115999170392755  average= 36.53163918345422\n",
      "run score= 36.135499192308636  average= 36.51640302994862\n",
      "run score= 36.45249918522313  average= 36.51403622088471\n",
      "run score= 36.28899918887764  average= 36.50599918402732\n",
      "run score= 37.27149916691705  average= 36.532395735161444\n",
      "run score= 35.640999203361574  average= 36.502682517434785\n",
      "run score= 36.850999176315966  average= 36.51391853868902\n",
      "run score= 36.31749918824062  average= 36.5077804339875\n",
      "run score= 36.67499918024987  average= 36.51284766872272\n",
      "run score= 37.721999156847595  average= 36.54841094778522\n",
      "run score= 36.415999186038974  average= 36.544627754592476\n",
      "run score= 36.8414991765283  average= 36.55287418297958\n",
      "run score= 37.361499164905396  average= 36.57472891222081\n",
      "run score= 36.35049918750301  average= 36.568828129991395\n",
      "run score= 36.987999173253776  average= 36.57957610545966\n",
      "run score= 36.415999186038974  average= 36.57548668247415\n",
      "run score= 36.88949917545542  average= 36.583145523766376\n",
      "run score= 36.83749917661771  average= 36.58920156311998\n",
      "run score= 36.51849918374792  average= 36.58755732173924\n",
      "run score= 35.90099919755012  average= 36.571953728007664\n",
      "run score= 37.73199915662408  average= 36.597732515310256\n",
      "run score= 37.40199916400015  average= 36.615216572890475\n",
      "run score= 37.467499162536114  average= 36.63335024501059\n",
      "run score= 37.585999159887436  average= 36.65319709740385\n",
      "run score= 37.08449917109683  average= 36.66199918054044\n",
      "run score= 37.20499916840345  average= 36.6728591802977\n",
      "run score= 37.37149916468188  average= 36.68655800352092\n",
      "run score= 36.70449917959049  average= 36.68690302613764\n",
      "run score= 36.71599917933345  average= 36.68745201016021\n",
      "run score= 36.926499174628404  average= 36.69187880950221\n",
      "run score= 36.33149918792769  average= 36.68532645274631\n",
      "run score= 36.8454991764389  average= 36.6881866799551\n",
      "run score= 37.02849917234853  average= 36.69415707455849\n",
      "run score= 37.18399916887283  average= 36.702602627908746\n",
      "run score= 37.327999165654184  average= 36.71320256922646\n",
      "run score= 37.47349916240201  average= 36.725874179112715\n",
      "run score= 37.139499169867484  average= 36.73265491666608\n",
      "run score= 38.260499144811185  average= 36.75729756550712\n",
      "run score= 36.96449917377904  average= 36.76058647992414\n",
      "run score= 37.39449916416779  average= 36.770491365615456\n",
      "run score= 35.33199921026826  average= 36.748360717071655\n",
      "run score= 36.34949918752536  average= 36.742317360563376\n",
      "run score= 36.750499178562315  average= 36.74243947724993\n",
      "run score= 36.41499918606132  average= 36.7376241788501\n",
      "run score= 36.717999179288746  average= 36.7373397585666\n",
      "run score= 36.1699991915375  average= 36.72923489332332\n",
      "run score= 36.7149991793558  average= 36.7290343903097\n",
      "run score= 37.336999165453015  average= 36.737478345520024\n",
      "run score= 35.953499196376654  average= 36.7267389051208\n",
      "run score= 36.06149919396266  average= 36.71774917929434\n",
      "run score= 36.75249917851761  average= 36.71821251261731\n",
      "run score= 36.89899917524308  average= 36.72059128449397\n",
      "run score= 35.842499198857695  average= 36.70918749117402\n",
      "run score= 37.21899916809052  average= 36.71572353831397\n",
      "run score= 36.455999185144904  average= 36.71243588827386\n",
      "run score= 37.25199916735291  average= 36.719180429262344\n",
      "run score= 35.68249920243397  average= 36.706381895597794\n",
      "run score= 36.62549918135628  average= 36.70539552103387\n",
      "run score= 35.7099992018193  average= 36.69340279429635\n",
      "run score= 37.32549916571006  average= 36.70092775109889\n",
      "run score= 37.195999168604615  average= 36.7067521207166\n",
      "run score= 36.524499183613806  average= 36.70463290051774\n",
      "run score= 37.52399916127324  average= 36.714050903514924\n",
      "run score= 36.130499192420395  average= 36.70741963407067\n",
      "run score= 35.31999921053648  average= 36.69183064054781\n",
      "run score= 36.05849919402972  average= 36.68479362447539\n",
      "run score= 36.48999918438494  average= 36.682653026232636\n",
      "run score= 37.86849915357307  average= 36.69554265805155\n",
      "run score= 37.02849917234853  average= 36.699122835624635\n",
      "run score= 37.1334991700016  average= 36.70374386045843\n",
      "run score= 36.37899918686598  average= 36.70032549547325\n",
      "run score= 35.95299919638783  average= 36.69254084652445\n",
      "run score= 37.01449917266145  average= 36.69586000452586\n",
      "run score= 36.524499183613806  average= 36.69411142472064\n",
      "run score= 36.46299918498844  average= 36.691776957652635\n",
      "run score= 36.83399917669594  average= 36.69319917984307\n",
      "rscore= [36.76949917813763, 37.62449915902689, 36.91349917491898, 35.49799920655787, 36.84049917655066, 36.82749917684123, 36.5574991828762, 36.038499194476756, 35.51999920606613, 36.810999177210036, 37.74599915631116, 36.86649917596951, 37.48499916214496, 37.3594991649501, 36.90849917503074, 35.65899920295924, 35.48099920693785, 36.45699918512255, 35.151499214302746, 37.32049916582182, 36.54999918304384, 35.87549919812009, 36.229999190196395, 35.68449920238927, 37.115999170392755, 36.135499192308636, 36.45249918522313, 36.28899918887764, 37.27149916691705, 35.640999203361574, 36.850999176315966, 36.31749918824062, 36.67499918024987, 37.721999156847595, 36.415999186038974, 36.8414991765283, 37.361499164905396, 36.35049918750301, 36.987999173253776, 36.415999186038974, 36.88949917545542, 36.83749917661771, 36.51849918374792, 35.90099919755012, 37.73199915662408, 37.40199916400015, 37.467499162536114, 37.585999159887436, 37.08449917109683, 37.20499916840345, 37.37149916468188, 36.70449917959049, 36.71599917933345, 36.926499174628404, 36.33149918792769, 36.8454991764389, 37.02849917234853, 37.18399916887283, 37.327999165654184, 37.47349916240201, 37.139499169867484, 38.260499144811185, 36.96449917377904, 37.39449916416779, 35.33199921026826, 36.34949918752536, 36.750499178562315, 36.41499918606132, 36.717999179288746, 36.1699991915375, 36.7149991793558, 37.336999165453015, 35.953499196376654, 36.06149919396266, 36.75249917851761, 36.89899917524308, 35.842499198857695, 37.21899916809052, 36.455999185144904, 37.25199916735291, 35.68249920243397, 36.62549918135628, 35.7099992018193, 37.32549916571006, 37.195999168604615, 36.524499183613806, 37.52399916127324, 36.130499192420395, 35.31999921053648, 36.05849919402972, 36.48999918438494, 37.86849915357307, 37.02849917234853, 37.1334991700016, 36.37899918686598, 35.95299919638783, 37.01449917266145, 36.524499183613806, 36.46299918498844, 36.83399917669594] [36.76949917813763, 37.19699916858226, 37.1024991706945, 36.70137417966034, 36.7291991790384, 36.74558251200554, 36.71871346498706, 36.63368668117328, 36.509943628383596, 36.54004918326624, 36.649680998997596, 36.667749180411924, 36.730614563622154, 36.775534892288434, 36.784399177804595, 36.714061679376755, 36.641528592762704, 36.631276959004914, 36.55339391981006, 36.591749182110654, 36.589761086916994, 36.557294637426224, 36.54306440059015, 36.50729085066511, 36.53163918345422, 36.51640302994862, 36.51403622088471, 36.50599918402732, 36.532395735161444, 36.502682517434785, 36.51391853868902, 36.5077804339875, 36.51284766872272, 36.54841094778522, 36.544627754592476, 36.55287418297958, 36.57472891222081, 36.568828129991395, 36.57957610545966, 36.57548668247415, 36.583145523766376, 36.58920156311998, 36.58755732173924, 36.571953728007664, 36.597732515310256, 36.615216572890475, 36.63335024501059, 36.65319709740385, 36.66199918054044, 36.6728591802977, 36.68655800352092, 36.68690302613764, 36.68745201016021, 36.69187880950221, 36.68532645274631, 36.6881866799551, 36.69415707455849, 36.702602627908746, 36.71320256922646, 36.725874179112715, 36.73265491666608, 36.75729756550712, 36.76058647992414, 36.770491365615456, 36.748360717071655, 36.742317360563376, 36.74243947724993, 36.7376241788501, 36.7373397585666, 36.72923489332332, 36.7290343903097, 36.737478345520024, 36.7267389051208, 36.71774917929434, 36.71821251261731, 36.72059128449397, 36.70918749117402, 36.71572353831397, 36.71243588827386, 36.719180429262344, 36.706381895597794, 36.70539552103387, 36.69340279429635, 36.70092775109889, 36.7067521207166, 36.70463290051774, 36.714050903514924, 36.70741963407067, 36.69183064054781, 36.68479362447539, 36.682653026232636, 36.69554265805155, 36.699122835624635, 36.70374386045843, 36.70032549547325, 36.69254084652445, 36.69586000452586, 36.69411142472064, 36.691776957652635, 36.69319917984307]\n"
     ]
    }
   ],
   "source": [
    "import time\n",
    "rscores_deque = deque(maxlen=average_period)\n",
    "rscores_global = []\n",
    "raverage_global = []\n",
    "\n",
    "def run_agent(n_episodes=100):\n",
    "    for i_episode in range(1, n_episodes+1):\n",
    "        env_info = env.reset(train_mode=False)[brain_name]      # reset the environment    \n",
    "        states = env_info.vector_observations                  # get the current state (for each agent)\n",
    "        prev_states=states\n",
    "        agent.reset()\n",
    "        rscores = np.zeros(num_agents)                          # initialize the score (for each agent)\n",
    "        time.sleep(3)\n",
    "        \n",
    "        while(True):\n",
    "            actions = agent.act(prev_states,states, add_noise=False)\n",
    "            env_info = env.step(actions)[brain_name]           # send all actions to the environment\n",
    "            next_states = env_info.vector_observations         # get next state (for each agent)\n",
    "            rewards = env_info.rewards                         # get reward (for each agent)\n",
    "            dones = env_info.local_done                        # see if any episode finished\n",
    "            prev_states = states\n",
    "            states = next_states                               # roll over states to next time step\n",
    "            rscores += rewards                                  # update the score (for each agent)            \n",
    "            if np.any(dones):                                  # exit loop if episode finished\n",
    "                break\n",
    "\n",
    "        rscore = np.mean(rscores)\n",
    "        rscores_deque.append(rscore)\n",
    "        rscore_average = np.mean(rscores_deque)\n",
    "        rscores_global.append(rscore)\n",
    "        raverage_global.append(rscore_average)\n",
    "        print(\"run score=\",rscore,\" average=\",rscore_average)\n",
    "        \n",
    "        \n",
    "    return rscores_global,raverage_global\n",
    "\n",
    "rscores,raverage=run_agent()\n",
    "print(\"rscore=\",rscores,raverage)\n"
   ]
  },
  {
   "cell_type": "markdown",
   "metadata": {},
   "source": [
    "## Plot Trained Run Results for 100 Episodes"
   ]
  },
  {
   "cell_type": "code",
   "execution_count": 64,
   "metadata": {},
   "outputs": [
    {
     "data": {
      "image/png": "[encoded data removed]",
      "text/plain": [
       "<Figure size 432x288 with 1 Axes>"
      ]
     },
     "metadata": {
      "needs_background": "light"
     },
     "output_type": "display_data"
    },
    {
     "data": {
      "image/png": "[encoded data removed]",
      "text/plain": [
       "<Figure size 432x288 with 1 Axes>"
      ]
     },
     "metadata": {
      "needs_background": "light"
     },
     "output_type": "display_data"
    }
   ],
   "source": [
    "import pandas as pd\n",
    "\n",
    "\n",
    "stdm=[raverage_global[i]-np.std(rscores_global[i-5:i+3]) for i in range(len(rscores_global))]\n",
    "stdp=[raverage_global[i]+np.std(rscores_global[i-5:i+3]) for i in range(len(rscores_global))]\n",
    "\n",
    "plt.plot(np.arange(1, len(rscores_global)+1), raverage_global,color='black',label='avg score')\n",
    "plt.plot(np.arange(1, len(rscores_global)+1), stdm,color='green',label='+/- std dev')\n",
    "plt.plot(np.arange(1, len(rscores_global)+1), stdp,color='green')\n",
    "plt.ylim(0, 50)\n",
    "plt.fill_between(range(len(rscores_global)),\n",
    "                 stdm,\n",
    "                 stdp,\n",
    "                 color='green',alpha=0.1,interpolate=True)\n",
    "plt.title(\"Trained Run Average Score/episode - 20 Agents\")\n",
    "plt.axhline(y=30.0, color='r', linestyle='-')\n",
    "plt.ylabel('Average Score (per episodes)')\n",
    "plt.xlabel('Episode #')\n",
    "plt.legend(loc='upper left')\n",
    "plt.show()\n",
    "\n",
    "fig = plt.figure()\n",
    "plt.ylim(0, 50)\n",
    "plt.axhline(y=30.0, color='r', linestyle='-')\n",
    "plt.title(\"Trained Raw Scores - 20 Agents\")\n",
    "plt.plot(np.arange(1, len(rscores_global)+1), rscores_global)\n",
    "plt.ylabel('Score')\n",
    "plt.xlabel('Episode #')\n",
    "plt.show()"
   ]
  },
  {
   "cell_type": "code",
   "execution_count": null,
   "metadata": {},
   "outputs": [],
   "source": []
  }
 ],
 "metadata": {
  "kernelspec": {
   "display_name": "deeprl",
   "language": "python",
   "name": "deeprl"
  },
  "language_info": {
   "codemirror_mode": {
    "name": "ipython",
    "version": 3
   },
   "file_extension": ".py",
   "mimetype": "text/x-python",
   "name": "python",
   "nbconvert_exporter": "python",
   "pygments_lexer": "ipython3",
   "version": "3.5.5"
  }
 },
 "nbformat": 4,
 "nbformat_minor": 2
}
